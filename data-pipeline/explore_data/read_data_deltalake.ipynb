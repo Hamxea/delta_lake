{
 "cells": [
  {
   "cell_type": "code",
   "execution_count": null,
   "metadata": {},
   "outputs": [],
   "source": [
    "from pyspark.sql import SparkSession\n",
    "import logging\n",
    "import os\n",
    "\n",
    "# Initialize logging\n",
    "logging.basicConfig(level=logging.INFO,\n",
    "                    format='%(asctime)s:%(funcName)s:%(levelname)s:%(message)s')\n",
    "logger = logging.getLogger(\"spark_structured_streaming\")"
   ]
  },
  {
   "cell_type": "code",
   "execution_count": null,
   "metadata": {},
   "outputs": [],
   "source": [
    "def initialize_spark_session(app_name, access_key, secret_key, minio_endpoint):\n",
    "    \"\"\"\n",
    "    Initialize the Spark Session with MinIO configurations, Delta Lake support, and additional packages.\n",
    "    \n",
    "    :param app_name: Name of the Spark application.\n",
    "    :param access_key: Access key for MinIO.\n",
    "    :param secret_key: Secret key for MinIO.\n",
    "    :param minio_endpoint: MinIO server endpoint (including port).\n",
    "    :return: Spark session object or None if there's an error.\n",
    "    \"\"\"\n",
    "    # Set the desired JAVA_HOME\n",
    "    os.environ['JAVA_HOME'] = '/Library/Java/JavaVirtualMachines/jdk1.8.0_321.jdk/Contents/Home'\n",
    "    os.environ['PATH'] = f\"{os.environ['JAVA_HOME']}/bin:\" + os.environ['PATH']\n",
    "    \n",
    "    # Add the Scala path to the PATH environment variable\n",
    "    os.environ['PATH'] = \"/opt/homebrew/opt/scala@2.13/bin:\" + os.environ['PATH']\n",
    "    \n",
    "    \n",
    "    try:\n",
    "        # #.master(\"spark://spark_master:7077\") \\\n",
    "        spark = SparkSession \\\n",
    "                .builder \\\n",
    "                .appName(app_name) \\\n",
    "                .config(\"spark.hadoop.fs.s3a.access.key\", access_key) \\\n",
    "                .config(\"spark.hadoop.fs.s3a.secret.key\", secret_key) \\\n",
    "                .config(\"spark.hadoop.fs.s3a.endpoint\", minio_endpoint) \\\n",
    "                .config(\"spark.hadoop.fs.s3a.connection.ssl.enabled\", \"false\") \\\n",
    "                .config(\"spark.hadoop.fs.s3a.path.style.access\", \"true\") \\\n",
    "                .config(\"spark.hadoop.fs.s3a.impl\", \"org.apache.hadoop.fs.s3a.S3AFileSystem\") \\\n",
    "                .config(\"spark.hadoop.fs.s3a.aws.credentials.provider\", \n",
    "                        \"org.apache.hadoop.fs.s3a.SimpleAWSCredentialsProvider\") \\\n",
    "                .config(\"spark.sql.extensions\", \"io.delta.sql.DeltaSparkSessionExtension\") \\\n",
    "                .config(\"spark.sql.catalog.spark_catalog\", \"org.apache.spark.sql.delta.catalog.DeltaCatalog\") \\\n",
    "                .config(\"spark.jars.packages\", \n",
    "                        \"org.apache.spark:spark-sql-kafka-0-10_2.12:3.3.0,\"\n",
    "                        \"org.apache.kafka:kafka-clients:3.3.0,\"\n",
    "                        \"org.apache.hadoop:hadoop-aws:3.2.0,\"\n",
    "                        \"com.amazonaws:aws-java-sdk-s3:1.11.375,\"\n",
    "                        \"org.postgresql:postgresql:42.2.18,\"\n",
    "                        \"org.apache.commons:commons-pool2:2.8.0,\"\n",
    "                        \"io.delta:delta-core_2.12:2.1.0\") \\\n",
    "                .getOrCreate()\n",
    "\n",
    "        spark.sparkContext.setLogLevel(\"ERROR\")\n",
    "        logger.info('Spark session initialized successfully with MinIO, Delta Lake, and additional packages')\n",
    "        return spark\n",
    "\n",
    "    except Exception as e:\n",
    "        logger.error(f\"Spark session initialization failed. Error: {e}\")\n",
    "        return None"
   ]
  },
  {
   "cell_type": "code",
   "execution_count": null,
   "metadata": {},
   "outputs": [],
   "source": [
    "\n",
    "# Replace with your actual MinIO credentials and endpoint\n",
    "app_name = \"DeltaLakeMinIOExplorer\"\n",
    "minio_endpoint = \"http://minio:9000\"\n",
    "access_key = \"H3jy2qkZ6ZFASS7slRJe\"\n",
    "secret_key = \"uFdq1hFXiee8pT2hG52gguyI0Iqkkyro07dDjopB\"\n",
    "brokers = \"localhost:29092,localhost:29093,localhost:29094\"\n"
   ]
  },
  {
   "cell_type": "code",
   "execution_count": null,
   "metadata": {},
   "outputs": [],
   "source": [
    "spark = initialize_spark_session(app_name, access_key, secret_key, minio_endpoint)\n",
    "spark"
   ]
  },
  {
   "cell_type": "code",
   "execution_count": null,
   "metadata": {},
   "outputs": [],
   "source": [
    "delta_table_path = \"s3a://datalake/processed_data/deltatable/table1/\" #\"s3a://datalake/processed_data/deltatable/\"  # MinIO bucket path for output data\n",
    "checkpoint_location = \"s3a://datalake/checkpoints/spark_metadata\"  # Correct checkpoint location path\n",
    "\n",
    "\n",
    "# Load the Delta table\n",
    "delta_df = spark.read.format(\"delta\").load(delta_table_path)\n",
    "\n",
    "# Show the first few records to explore the data\n",
    "#delta_df.show()\n"
   ]
  },
  {
   "cell_type": "code",
   "execution_count": null,
   "metadata": {},
   "outputs": [],
   "source": [
    "import boto3\n",
    "import json\n",
    "from botocore.exceptions import NoCredentialsError\n",
    "\n",
    "# Use the correct MinIO endpoint, access key, and secret key\n",
    "s3 = boto3.client('s3',\n",
    "                  endpoint_url=\"http://localhost:9000\",\n",
    "                  aws_access_key_id=access_key,\n",
    "                  aws_secret_access_key=secret_key)\n",
    "\n",
    "try:\n",
    "    response = s3.list_buckets()\n",
    "    # index ResponseMetadata in response dictionary\n",
    "    print(\"Connection successful:\", json.dumps(response['ResponseMetadata'], indent=2))\n",
    "except Exception as e:\n",
    "    print(\"Error:\", str(e))\n"
   ]
  }
 ],
 "metadata": {
  "kernelspec": {
   "display_name": "data_pipeline",
   "language": "python",
   "name": "python3"
  },
  "language_info": {
   "codemirror_mode": {
    "name": "ipython",
    "version": 3
   },
   "file_extension": ".py",
   "mimetype": "text/x-python",
   "name": "python",
   "nbconvert_exporter": "python",
   "pygments_lexer": "ipython3",
   "version": "3.9.19"
  }
 },
 "nbformat": 4,
 "nbformat_minor": 2
}
